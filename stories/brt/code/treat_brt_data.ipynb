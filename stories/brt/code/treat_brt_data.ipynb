{
 "cells": [
  {
   "cell_type": "code",
   "execution_count": 2,
   "id": "e28242b3-a487-423d-9d16-cd796c22e4b2",
   "metadata": {},
   "outputs": [],
   "source": [
    "%reload_ext autoreload\n",
    "%autoreload 2\n",
    "\n",
    "import sys\n",
    "sys.path.insert(0, \"../\")\n",
    "from pathlib import Path\n",
    "\n",
    "import pandas as pd\n",
    "import geopandas as gpd\n",
    "import numpy as np\n",
    "import plotly.express as px\n",
    "import basedosdados as bd\n",
    "\n",
    "pd.options.display.max_columns = 999\n",
    "pd.options.display.max_rows = 1999\n",
    "pd.options.display.max_colwidth = 200"
   ]
  },
  {
   "cell_type": "markdown",
   "id": "6c4949db-3ce9-4f57-abce-5e5ea00dd952",
   "metadata": {},
   "source": [
    "### Observações\n",
    "\n",
    "- Os dados utilizados nos tratamentos se encontram na pasta do [Google Drive](https://drive.google.com/drive/folders/1TQjha0aPdBLfBGek8Bl48cmdGbX_j_qC)"
   ]
  },
  {
   "cell_type": "markdown",
   "id": "f4460c93-486b-4fd5-b677-dcca636d61f5",
   "metadata": {},
   "source": [
    "### Shapes\n",
    "\n",
    "- Trem\n",
    "- VLT\n",
    "- Transbrasil – Linha 62\n",
    "- Transolimpica - \n",
    "- Transcarioca\n",
    "- Transoeste"
   ]
  },
  {
   "cell_type": "code",
   "execution_count": 5,
   "id": "b77e579a-543c-44fe-bf9b-ba51551bfa55",
   "metadata": {},
   "outputs": [
    {
     "name": "stderr",
     "output_type": "stream",
     "text": [
      "Downloading: 0rows [00:00, ?rows/s]\n"
     ]
    }
   ],
   "source": [
    "### SHAPES TP RJ\n",
    "\n",
    "query = \"\"\"\n",
    "SELECT \n",
    "  CASE \n",
    "    WHEN id_modal_smtr = '10' THEN \"Metrô\"\n",
    "    WHEN id_modal_smtr = '11' THEN \"Trem\"\n",
    "    WHEN id_modal_smtr = '12' THEN \"VLT\"\n",
    "    WHEN id_modal_smtr = '13' THEN \"Bonde\"\n",
    "    WHEN id_modal_smtr = '14' THEN \"Plano Inclinado\"\n",
    "    WHEN id_modal_smtr = '20' THEN \"BRT\"\n",
    "    WHEN id_modal_smtr = '21' THEN \"BHLS\"\n",
    "    WHEN id_modal_smtr = '22' THEN \"SPPO\"\n",
    "    WHEN id_modal_smtr = '23' THEN \"SPPO Executivo\"\n",
    "    WHEN id_modal_smtr = '30' THEN \"DETRO RMTJ\"\n",
    "    WHEN id_modal_smtr = '31' THEN \"Varia conforme região\"\n",
    "    WHEN id_modal_smtr = '32' THEN \"Varia conforme região\"\n",
    "    WHEN id_modal_smtr = '33' THEN \"Varia conforme região\"\n",
    "    WHEN id_modal_smtr = '34' THEN \"Varia conforme região\"\n",
    "    WHEN id_modal_smtr = '35' THEN \"Varia conforme região\"\n",
    "    WHEN id_modal_smtr = '36' THEN \"Varia conforme região\"\n",
    "    WHEN id_modal_smtr = '37' THEN \"Varia conforme região\"\n",
    "    WHEN id_modal_smtr = '38' THEN \"Varia conforme região\"\n",
    "    WHEN id_modal_smtr = '39' THEN \"Varia conforme região\"\n",
    "    WHEN id_modal_smtr = '40' THEN \"STPL\"\n",
    "    WHEN id_modal_smtr = '41' THEN \"STPC\"\n",
    "    WHEN id_modal_smtr = '50' THEN \"Barcas\"\n",
    "    WHEN id_modal_smtr = '60' THEN \"Teleferico\"\n",
    " END AS id_modal_smtr,\n",
    "  * EXCEPT(\n",
    "    versao,\n",
    "    id_modal_smtr\n",
    "    )\n",
    "FROM `rj-smtr.br_rj_riodejaneiro_sigmob.shapes_geom` \n",
    "WHERE data_versao = \"2022-01-10\"\n",
    "\"\"\"\n",
    "\n",
    "shapes = bd.read_sql(query,billing_project_id='rj-escritorio-dev',  use_bqstorage_api=True)\n",
    "shapes.to_csv('data/raw/shapes_transporte_rj_sigmob.csv', index=False)\n",
    "shapes = pd.read_csv('data/raw/shapes_transporte_rj_sigmob.csv')"
   ]
  },
  {
   "cell_type": "code",
   "execution_count": 6,
   "id": "f3b50ebe-ba07-42de-8042-0829e429fc71",
   "metadata": {},
   "outputs": [],
   "source": [
    "shapes = pd.read_csv('data/raw/shapes_transporte_rj_sigmob.csv')"
   ]
  },
  {
   "cell_type": "code",
   "execution_count": null,
   "id": "b9e2167d-4577-484c-85bd-69141ccb166b",
   "metadata": {},
   "outputs": [],
   "source": []
  },
  {
   "cell_type": "code",
   "execution_count": null,
   "id": "e9daadc9-63e8-4915-a974-65cdb768561e",
   "metadata": {},
   "outputs": [],
   "source": []
  },
  {
   "cell_type": "markdown",
   "id": "67da0567-3905-480f-835f-1aeac2a5a9c4",
   "metadata": {},
   "source": [
    "\n",
    "### Estações com data de abertura\n",
    "\n",
    "- Transolimpica\n",
    "- Transcarioca\n",
    "- Transoeste\n",
    "- Transbrasil\n"
   ]
  },
  {
   "cell_type": "code",
   "execution_count": null,
   "id": "91c08cb7-7ec5-4fa9-ac47-539826f8ac4e",
   "metadata": {},
   "outputs": [],
   "source": [
    "estacoes = pd.read_csv('data/raw/estacoes_brt_georeferenciadas.csv')"
   ]
  },
  {
   "cell_type": "code",
   "execution_count": null,
   "id": "7324a20b-47ee-43d3-ba2b-be34a8002677",
   "metadata": {},
   "outputs": [],
   "source": []
  },
  {
   "cell_type": "code",
   "execution_count": null,
   "id": "a9a31bdc-e67a-41ce-b4c4-735e3a4d6597",
   "metadata": {},
   "outputs": [],
   "source": []
  },
  {
   "cell_type": "markdown",
   "id": "5be78ee3-19d9-42d1-b467-2f69a0c89df8",
   "metadata": {},
   "source": [
    "### Dados\n",
    "\n",
    "- Numero de passageiros \n",
    "    - 2016\n",
    "    - 2020\n",
    "    - 2022\n",
    "    - Futuro\n",
    "    - Gráfico\n"
   ]
  },
  {
   "cell_type": "code",
   "execution_count": null,
   "id": "cb1a2e5e-acd1-407d-979c-9380865ee013",
   "metadata": {},
   "outputs": [],
   "source": []
  },
  {
   "cell_type": "code",
   "execution_count": null,
   "id": "78b0b380-55df-48c5-bd8b-4059c74db0d4",
   "metadata": {},
   "outputs": [],
   "source": []
  },
  {
   "cell_type": "markdown",
   "id": "ec0a9e90-4ac9-4a5c-a220-9650986052b6",
   "metadata": {},
   "source": [
    "### Dados\n",
    "\n",
    "- Numero de estações\n",
    "    - 2016\n",
    "    - 2020\n",
    "    - 2022\n",
    "    - Futuro\n",
    "    - Gráfico"
   ]
  },
  {
   "cell_type": "code",
   "execution_count": null,
   "id": "1b3ac2f8-4461-4380-83bc-0e50ac927a51",
   "metadata": {},
   "outputs": [],
   "source": []
  },
  {
   "cell_type": "code",
   "execution_count": null,
   "id": "7972ea8c-6e1e-40b7-a207-28b869cdac1e",
   "metadata": {},
   "outputs": [],
   "source": []
  },
  {
   "cell_type": "markdown",
   "id": "374eeee2-f6ec-40a7-85ef-975185f74e28",
   "metadata": {},
   "source": [
    "### Dados\n",
    "\n",
    "- Numero de veículos\n",
    "    - 2016\n",
    "    - 2020\n",
    "    - 2022\n",
    "    - Futuro\n",
    "    - Gráfico"
   ]
  },
  {
   "cell_type": "code",
   "execution_count": null,
   "id": "ef41f40c-2d70-4c43-a820-e7a4153b5875",
   "metadata": {},
   "outputs": [],
   "source": []
  },
  {
   "cell_type": "code",
   "execution_count": null,
   "id": "572b1133-2114-4297-92ee-88e708857faa",
   "metadata": {},
   "outputs": [],
   "source": []
  },
  {
   "cell_type": "markdown",
   "id": "d9b80f36-e846-467f-80ea-28256476e6a2",
   "metadata": {},
   "source": [
    "### Dados\n",
    "\n",
    "- Comprimento dos corredores e número de estações por corredor\n",
    "- Custo/km metro vs BRT"
   ]
  },
  {
   "cell_type": "code",
   "execution_count": null,
   "id": "307aeeec-9483-47f2-ab3e-c9619d911053",
   "metadata": {},
   "outputs": [],
   "source": []
  },
  {
   "cell_type": "code",
   "execution_count": null,
   "id": "d4f25411-14d1-4182-b730-bb8517435b00",
   "metadata": {},
   "outputs": [],
   "source": []
  },
  {
   "cell_type": "code",
   "execution_count": null,
   "id": "3545fee7-fe76-402c-bb92-67c106fe172c",
   "metadata": {},
   "outputs": [],
   "source": []
  },
  {
   "cell_type": "code",
   "execution_count": null,
   "id": "2c2c5e6f-4b19-4a96-925b-51f19216abb9",
   "metadata": {},
   "outputs": [],
   "source": []
  },
  {
   "cell_type": "code",
   "execution_count": null,
   "id": "5786cd69-4f06-46a4-af0a-949511ba55ae",
   "metadata": {},
   "outputs": [],
   "source": []
  },
  {
   "cell_type": "code",
   "execution_count": null,
   "id": "55ebef95-9c59-47a2-9eb3-d020fa698b62",
   "metadata": {},
   "outputs": [],
   "source": []
  }
 ],
 "metadata": {
  "kernelspec": {
   "display_name": "Python 3 (ipykernel)",
   "language": "python",
   "name": "python3"
  },
  "language_info": {
   "codemirror_mode": {
    "name": "ipython",
    "version": 3
   },
   "file_extension": ".py",
   "mimetype": "text/x-python",
   "name": "python",
   "nbconvert_exporter": "python",
   "pygments_lexer": "ipython3",
   "version": "3.9.1"
  }
 },
 "nbformat": 4,
 "nbformat_minor": 5
}
